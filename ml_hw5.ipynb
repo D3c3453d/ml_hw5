{
  "cells": [
    {
      "cell_type": "code",
      "execution_count": 2,
      "metadata": {
        "colab": {
          "base_uri": "https://localhost:8080/"
        },
        "id": "g3D8ILiPoPZX",
        "outputId": "6ba2fb9e-9a04-4ba5-f301-a8d331731a46"
      },
      "outputs": [],
      "source": [
        "#!pip install facenet-pytorch"
      ]
    },
    {
      "cell_type": "code",
      "execution_count": 5,
      "metadata": {
        "id": "OOSQyweEn1Nk"
      },
      "outputs": [],
      "source": [
        "import os\n",
        "import argparse\n",
        "from PIL import Image\n",
        "import torch\n",
        "from torchvision import transforms\n",
        "from facenet_pytorch import InceptionResnetV1, MTCNN"
      ]
    },
    {
      "cell_type": "code",
      "execution_count": 6,
      "metadata": {
        "id": "tpf7P7-NoNnW"
      },
      "outputs": [],
      "source": [
        "def load_image(path, mtcnn, transform):\n",
        "    \"\"\"Загружает и обрабатывает изображение лица.\"\"\"\n",
        "    img = Image.open(path).convert('RGB')\n",
        "    # Выделение лица\n",
        "    face = mtcnn(img)\n",
        "    if face is None:\n",
        "        raise ValueError(f\"Лицо не обнаружено на изображении {path}\")\n",
        "    # mtcnn возвращает уже тензор (3xHxW)\n",
        "    return face.unsqueeze(0)"
      ]
    },
    {
      "cell_type": "code",
      "execution_count": 7,
      "metadata": {
        "id": "IgXofjPso-AB"
      },
      "outputs": [],
      "source": [
        "def compute_embedding(model, face_tensor):\n",
        "    \"\"\"Вычисляет эмбеддинг лица.\"\"\"\n",
        "    model.eval()\n",
        "    with torch.no_grad():\n",
        "        embedding = model(face_tensor)\n",
        "    return embedding / embedding.norm(p=2)"
      ]
    },
    {
      "cell_type": "markdown",
      "metadata": {
        "id": "dJpAMGOB34Ij"
      },
      "source": [
        "# Файлы с собственными изображениями должны содержать \"self\" в названии"
      ]
    },
    {
      "cell_type": "code",
      "execution_count": 12,
      "metadata": {
        "id": "YJASO5Qq4M9e"
      },
      "outputs": [],
      "source": [
        "# Инициализация MTCNN и модели FaceNet\n",
        "mtcnn = MTCNN(image_size=160, margin=0)\n",
        "model = InceptionResnetV1(pretrained=\"vggface2\").eval()"
      ]
    },
    {
      "cell_type": "code",
      "execution_count": 14,
      "metadata": {
        "colab": {
          "base_uri": "https://localhost:8080/"
        },
        "id": "H7G3sSmzpCeO",
        "outputId": "280ae607-c0c6-48e1-f1aa-284bed952588"
      },
      "outputs": [
        {
          "name": "stdout",
          "output_type": "stream",
          "text": [
            "Результаты распознавания:\n",
            "!self2.jpg: MATCH (dist=0.238)\n",
            "!self3.jpg: MATCH (dist=0.235)\n",
            "!self4.jpg: MATCH (dist=0.450)\n",
            "!self5.jpg: MATCH (dist=0.292)\n",
            "!self6.jpg: MATCH (dist=0.259)\n",
            "!self7.jpg: MATCH (dist=0.279)\n",
            "aaron_eckhart.jpg: NO MATCH (dist=0.825)\n",
            "angelina_jolie.jpg: NO MATCH (dist=1.069)\n",
            "bradley_cooper.jpg: NO MATCH (dist=0.984)\n",
            "kate_siegel.jpg: NO MATCH (dist=1.045)\n",
            "logan_marshall.jpg: NO MATCH (dist=0.756)\n",
            "paul_rudd.jpg: NO MATCH (dist=0.974)\n",
            "robert_downey.jpg: NO MATCH (dist=1.060)\n",
            "ryan_gosling.jpg: NO MATCH (dist=1.068)\n",
            "shea_whigham.jpg: NO MATCH (dist=1.060)\n",
            "tom_hardy.jpg: NO MATCH (dist=0.630)\n",
            "tom_hardy_2.jpg: NO MATCH (dist=0.803)\n",
            "tom_hardy_3.jpg: NO MATCH (dist=0.802)\n",
            "tom_hardy_4.jpg: NO MATCH (dist=0.506)\n",
            "tom_hardy_5.jpg: NO MATCH (dist=0.834)\n",
            "will_smith.jpg: NO MATCH (dist=1.013)\n",
            "\n",
            "Успешных \"не вы\": 15 из 15\n",
            "Успешных \"вы\": 6 из 6\n",
            "Минимальные требования выполнены\n"
          ]
        }
      ],
      "source": [
        "ref = \"./self1.jpg\" # Путь до референснового изображения\n",
        "tests = \"./tests\" # Путь до тестовых изображений\n",
        "threshold = 0.5 # Порог косинусного расстояния для совпадения\n",
        "\n",
        "# Загрузка и обработка референса\n",
        "ref_face = load_image(ref, mtcnn, None)\n",
        "ref_emb = compute_embedding(model, ref_face)\n",
        "\n",
        "# Обработка тестовых\n",
        "results = []\n",
        "for fname in sorted(os.listdir(tests)):\n",
        "    path = os.path.join(tests, fname)\n",
        "    try:\n",
        "        face = load_image(path, mtcnn, None)\n",
        "        emb = compute_embedding(model, face)\n",
        "        # косинусное расстояние\n",
        "        dist = 1 - (emb @ ref_emb.T).item()\n",
        "        match = dist < threshold\n",
        "        results.append((fname, dist, match))\n",
        "    except Exception as e:\n",
        "        # results.append((fname, None, False))\n",
        "        print(f\"Ошибка обработки {fname}: {e}\")\n",
        "\n",
        "# Итог\n",
        "print(\"Результаты распознавания:\")\n",
        "other_correct = 0\n",
        "self_correct = 0\n",
        "self_count = 0\n",
        "for fname, dist, match in results:\n",
        "    label = \"MATCH\" if match else \"NO MATCH\"\n",
        "    dist_str = f\"{dist:.3f}\" if dist is not None else \"N/A\"\n",
        "    print(f\"{fname}: {label} (dist={dist_str})\")\n",
        "    # Предполагаем, что имена файлов содержат \"self\" для своих\n",
        "    if \"self\" in fname:\n",
        "        self_count += 1\n",
        "        if match:\n",
        "            self_correct += 1\n",
        "    else:\n",
        "        if not match:\n",
        "            other_correct += 1\n",
        "\n",
        "other_count = len(results) - self_count\n",
        "print(f\"\\nУспешных \\\"не вы\\\": {other_correct} из {other_count}\")\n",
        "print(f\"Успешных \\\"вы\\\": {self_correct} из {self_count}\")\n",
        "\n",
        "assert other_correct / other_count >= 0.6, \"Требование: минимум 60% чужих лиц распознано правильно\"\n",
        "assert self_correct / self_count >= 0.6, \"Требование: минимум 60% собственных лиц распознано правильно\"\n",
        "\n",
        "print(\"Минимальные требования выполнены\")"
      ]
    },
    {
      "cell_type": "code",
      "execution_count": null,
      "metadata": {
        "id": "Z1ljL79Lw9db"
      },
      "outputs": [],
      "source": []
    }
  ],
  "metadata": {
    "colab": {
      "provenance": []
    },
    "kernelspec": {
      "display_name": "ml-hw5-avC5tyho-py3.10",
      "language": "python",
      "name": "python3"
    },
    "language_info": {
      "codemirror_mode": {
        "name": "ipython",
        "version": 3
      },
      "file_extension": ".py",
      "mimetype": "text/x-python",
      "name": "python",
      "nbconvert_exporter": "python",
      "pygments_lexer": "ipython3",
      "version": "3.10.17"
    }
  },
  "nbformat": 4,
  "nbformat_minor": 0
}
